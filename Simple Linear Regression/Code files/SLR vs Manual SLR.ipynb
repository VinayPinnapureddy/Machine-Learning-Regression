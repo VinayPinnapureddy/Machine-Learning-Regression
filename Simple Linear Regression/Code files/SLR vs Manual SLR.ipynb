{
 "cells": [
  {
   "cell_type": "code",
   "execution_count": 60,
   "metadata": {},
   "outputs": [],
   "source": [
    "import numpy as np\n",
    "import pandas as pd\n",
    "import matplotlib.pyplot as plt"
   ]
  },
  {
   "cell_type": "code",
   "execution_count": 61,
   "metadata": {},
   "outputs": [
    {
     "name": "stdout",
     "output_type": "stream",
     "text": [
      "   YearsExperience   Salary\n",
      "0              1.1  39343.0\n",
      "1              1.3  46205.0\n",
      "2              1.5  37731.0\n",
      "3              2.0  43525.0\n",
      "4              2.2  39891.0\n"
     ]
    }
   ],
   "source": [
    "data=pd.read_csv(\"Salary_Data.csv\")\n",
    "print(data.head())\n",
    "x=data.iloc[:,:-1].values\n",
    "y=data.iloc[:,-1].values\n",
    "#print(x)\n",
    "#print(y)"
   ]
  },
  {
   "cell_type": "code",
   "execution_count": 62,
   "metadata": {},
   "outputs": [],
   "source": [
    "# Splitting the data sets into training and testing data\n",
    "from sklearn.model_selection import train_test_split\n",
    "x_train,x_test,y_train,y_test=train_test_split(x,y,test_size=0.2,random_state=1)"
   ]
  },
  {
   "cell_type": "code",
   "execution_count": 63,
   "metadata": {},
   "outputs": [
    {
     "data": {
      "text/plain": [
       "LinearRegression(copy_X=True, fit_intercept=True, n_jobs=None,\n",
       "         normalize=False)"
      ]
     },
     "execution_count": 63,
     "metadata": {},
     "output_type": "execute_result"
    }
   ],
   "source": [
    "#Training the Simple Linear Regression Model\n",
    "from sklearn.linear_model import LinearRegression\n",
    "lr=LinearRegression()\n",
    "lr.fit(x_train,y_train)"
   ]
  },
  {
   "cell_type": "code",
   "execution_count": 95,
   "metadata": {},
   "outputs": [
    {
     "name": "stdout",
     "output_type": "stream",
     "text": [
      "[75074.50510972 91873.8056381  62008.38247653 81607.56642631\n",
      " 67608.14931932 89073.92221671]\n"
     ]
    }
   ],
   "source": [
    "# Predicting the Test set results\n",
    "y_pred=lr.predict(x_test)\n",
    "print(y_pred)"
   ]
  },
  {
   "cell_type": "code",
   "execution_count": 65,
   "metadata": {},
   "outputs": [
    {
     "data": {
      "image/png": "[encoded data removed]",
      "text/plain": [
       "<Figure size 432x288 with 1 Axes>"
      ]
     },
     "metadata": {
      "needs_background": "light"
     },
     "output_type": "display_data"
    }
   ],
   "source": [
    "# Visualizing the Training set data\n",
    "plt.scatter(x_train,y_train,color=\"red\")\n",
    "plt.plot(x_train,lr.predict(x_train),color=\"blue\")\n",
    "plt.title(\"Experience vs Salary\")\n",
    "plt.xlabel(\"Experience\")\n",
    "plt.ylabel(\"Salary\")\n",
    "plt.show()"
   ]
  },
  {
   "cell_type": "code",
   "execution_count": 66,
   "metadata": {},
   "outputs": [
    {
     "data": {
      "image/png": "[encoded data removed]",
      "text/plain": [
       "<Figure size 432x288 with 1 Axes>"
      ]
     },
     "metadata": {
      "needs_background": "light"
     },
     "output_type": "display_data"
    }
   ],
   "source": [
    "# Visualizing the Testing set data\n",
    "plt.scatter(x_test,y_test,color=\"red\")\n",
    "plt.plot(x_train,lr.predict(x_train),color=\"blue\")\n",
    "plt.title(\"Experience vs Salary\")\n",
    "plt.xlabel(\"Experience\")\n",
    "plt.ylabel(\"Salary\")\n",
    "plt.show()"
   ]
  },
  {
   "cell_type": "code",
   "execution_count": 67,
   "metadata": {},
   "outputs": [
    {
     "name": "stdout",
     "output_type": "stream",
     "text": [
      "[137605.23485427]\n"
     ]
    }
   ],
   "source": [
    "print(lr.predict([[12]])) # Given years of experience =12 years and we need to predict the Salary.\n",
    "# predict() method always expects a 2D array as input."
   ]
  },
  {
   "cell_type": "code",
   "execution_count": 68,
   "metadata": {},
   "outputs": [
    {
     "name": "stdout",
     "output_type": "stream",
     "text": [
      "[9332.94473799]\n",
      "25609.89799835482\n"
     ]
    }
   ],
   "source": [
    "print(lr.coef_) # slope value (m) or coefficient value (b1)\n",
    "print(lr.intercept_) # y-intercept value, c-value or b0 value."
   ]
  },
  {
   "cell_type": "markdown",
   "metadata": {},
   "source": [
    "# Manual calculation of Coefficient and Intercept values"
   ]
  },
  {
   "cell_type": "code",
   "execution_count": 77,
   "metadata": {},
   "outputs": [
    {
     "name": "stdout",
     "output_type": "stream",
     "text": [
      "Index(['YearsExperience', 'Salary'], dtype='object')\n",
      "[1.1, 1.3, 1.5, 2.0, 2.2, 2.9, 3.0, 3.2, 3.2, 3.7, 3.9, 4.0, 4.0, 4.1, 4.5, 4.9, 5.1, 5.3, 5.9, 6.0, 6.8, 7.1, 7.9, 8.2, 8.7, 9.0, 9.5, 9.6, 10.3, 10.5]\n",
      "[39343.0, 46205.0, 37731.0, 43525.0, 39891.0, 56642.0, 60150.0, 54445.0, 64445.0, 57189.0, 63218.0, 55794.0, 56957.0, 57081.0, 61111.0, 67938.0, 66029.0, 83088.0, 81363.0, 93940.0, 91738.0, 98273.0, 101302.0, 113812.0, 109431.0, 105582.0, 116969.0, 112635.0, 122391.0, 121872.0]\n"
     ]
    }
   ],
   "source": [
    "data=pd.read_csv(\"Salary_Data.csv\")\n",
    "print(data.columns)\n",
    "a=data[\"YearsExperience\"]\n",
    "#print(a,type(a))\n",
    "b=data[\"Salary\"]\n",
    "#print(b,type(b))\n",
    "l1=a.tolist()\n",
    "print(l1)\n",
    "l2=b.tolist()\n",
    "print(l2)"
   ]
  },
  {
   "cell_type": "code",
   "execution_count": 80,
   "metadata": {},
   "outputs": [
    {
     "name": "stdout",
     "output_type": "stream",
     "text": [
      "159.4\n",
      "2280090.0\n"
     ]
    }
   ],
   "source": [
    "c=sum(l1) # Summation x\n",
    "print(c)\n",
    "d=sum(l2) # Summation y\n",
    "print(d)"
   ]
  },
  {
   "cell_type": "code",
   "execution_count": 92,
   "metadata": {},
   "outputs": [
    {
     "name": "stdout",
     "output_type": "stream",
     "text": [
      "[43277.3, 60066.5, 56596.5, 87050.0, 87760.20000000001, 164261.8, 180450.0, 174224.0, 206224.0, 211599.30000000002, 246550.19999999998, 223176.0, 227828.0, 234032.09999999998, 274999.5, 332896.2, 336747.89999999997, 440366.39999999997, 480041.7, 563640.0, 623818.4, 697738.2999999999, 800285.8, 933258.3999999999, 952049.7, 950238.0, 1111205.5, 1081296.0, 1260627.3, 1279656.0]\n",
      "14321961.0\n"
     ]
    }
   ],
   "source": [
    "pro=[]\n",
    "for i,j in zip(l1,l2):\n",
    "    pro.append(i*j)\n",
    "print(pro)\n",
    "e=sum(pro) # Summation xy\n",
    "print(e)"
   ]
  },
  {
   "cell_type": "code",
   "execution_count": 84,
   "metadata": {},
   "outputs": [
    {
     "name": "stdout",
     "output_type": "stream",
     "text": [
      "[1.2100000000000002, 1.6900000000000002, 2.25, 4.0, 4.840000000000001, 8.41, 9.0, 10.240000000000002, 10.240000000000002, 13.690000000000001, 15.209999999999999, 16.0, 16.0, 16.81, 20.25, 24.010000000000005, 26.009999999999998, 28.09, 34.81, 36.0, 46.239999999999995, 50.41, 62.410000000000004, 67.24, 75.68999999999998, 81.0, 90.25, 92.16, 106.09000000000002, 110.25]\n"
     ]
    }
   ],
   "source": [
    "l3=[]\n",
    "for i in l1:\n",
    "    l3.append(i*i)\n",
    "print(l3)"
   ]
  },
  {
   "cell_type": "code",
   "execution_count": 85,
   "metadata": {},
   "outputs": [
    {
     "name": "stdout",
     "output_type": "stream",
     "text": [
      "1080.5\n"
     ]
    }
   ],
   "source": [
    "f=sum(l3) # Summation of x^2\n",
    "print(f)"
   ]
  },
  {
   "cell_type": "code",
   "execution_count": 86,
   "metadata": {},
   "outputs": [
    {
     "name": "stdout",
     "output_type": "stream",
     "text": [
      "25408.36\n"
     ]
    }
   ],
   "source": [
    "g=c*c # summation x whole square\n",
    "print(g)"
   ]
  },
  {
   "cell_type": "markdown",
   "metadata": {},
   "source": [
    "# Coefficient value calculation"
   ]
  },
  {
   "cell_type": "code",
   "execution_count": 90,
   "metadata": {},
   "outputs": [
    {
     "data": {
      "text/plain": [
       "9449.962321455077"
      ]
     },
     "execution_count": 90,
     "metadata": {},
     "output_type": "execute_result"
    }
   ],
   "source": [
    "n=30\n",
    "m=((n*e)-(c*d))/((n*f)-g) # m= (n*summation(xy)-(summation(x).summation(y)))/ ((n*summation(x^2)-(summation(x))^2)\n",
    "m"
   ]
  },
  {
   "cell_type": "markdown",
   "metadata": {},
   "source": [
    "# Intercept value calculation"
   ]
  },
  {
   "cell_type": "code",
   "execution_count": 93,
   "metadata": {},
   "outputs": [
    {
     "data": {
      "text/plain": [
       "25792.200198668685"
      ]
     },
     "execution_count": 93,
     "metadata": {},
     "output_type": "execute_result"
    }
   ],
   "source": [
    "k=(d-(m*c))/n  # c=(summation(y)-m*summation(x))/n\n",
    "k"
   ]
  },
  {
   "cell_type": "markdown",
   "metadata": {},
   "source": [
    "# Equation of the Line: y=m*x + c  implies y=9449.96232 * x +25792.2001 "
   ]
  },
  {
   "cell_type": "code",
   "execution_count": null,
   "metadata": {},
   "outputs": [],
   "source": []
  },
  {
   "cell_type": "code",
   "execution_count": 97,
   "metadata": {},
   "outputs": [
    {
     "name": "stdout",
     "output_type": "stream",
     "text": [
      "[75877.00050238]\n",
      "[92886.932681]\n",
      "[62647.05325234]\n",
      "[82491.9741274]\n",
      "[68317.03064522]\n",
      "[90051.94398456]\n"
     ]
    }
   ],
   "source": [
    "for i in x_test:\n",
    "    y_p=(m*i)+k\n",
    "    print(y_p)"
   ]
  },
  {
   "cell_type": "code",
   "execution_count": null,
   "metadata": {},
   "outputs": [],
   "source": []
  }
 ],
 "metadata": {
  "kernelspec": {
   "display_name": "Python 3 (ipykernel)",
   "language": "python",
   "name": "python3"
  },
  "language_info": {
   "codemirror_mode": {
    "name": "ipython",
    "version": 3
   },
   "file_extension": ".py",
   "mimetype": "text/x-python",
   "name": "python",
   "nbconvert_exporter": "python",
   "pygments_lexer": "ipython3",
   "version": "3.7.2"
  }
 },
 "nbformat": 4,
 "nbformat_minor": 2
}
